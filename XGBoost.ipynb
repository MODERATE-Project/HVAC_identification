{
 "cells": [
  {
   "cell_type": "markdown",
   "id": "c6eae871",
   "metadata": {},
   "source": [
    "# Train with real data from Fluvius"
   ]
  },
  {
   "cell_type": "markdown",
   "id": "44226fec",
   "metadata": {},
   "source": [
    "## Read raw data"
   ]
  },
  {
   "cell_type": "code",
   "execution_count": 72,
   "id": "de1f8bfd",
   "metadata": {},
   "outputs": [],
   "source": [
    "import os\n",
    "from pathlib import Path\n",
    "import pandas as pd\n",
    "directory = Path.cwd()\n",
    "##  You have to download the datal from the following link:\n",
    "# https://opendata.fluvius.be/explore/dataset/1_50-verbruiksprofielen-dm-elek-kwartierwaarden-voor-een-volledig-jaar/information/\n",
    "\n",
    "time_series_Consumption=pd.read_pickle(os.path.join(directory,'all_time_series_Consumption.pkl'))\n",
    "labels_df=pd.read_pickle(os.path.join(directory,'labels_df.pkl'))\n",
    "time_series_Consumption.set_index('Datetime', inplace=True)\n",
    "time_series_Consumption=time_series_Consumption.resample('h').sum()\n",
    "\n",
    "#features_to_plot = [\n",
    "#    ('mean', \"Mean\"),\n",
    "#    ('std', \"Standard Deviation\"),\n",
    "#    ('median', \"Median\"),\n",
    "#    ('skew', \"Skewness\"),\n",
    "#    ('sum', \"Sum\"),\n",
    "#    ('min', \"Minimum\"),\n",
    "#    ('max', \"Maximum\")]\""
   ]
  },
  {
   "cell_type": "markdown",
   "id": "5dfb0fc5",
   "metadata": {},
   "source": [
    "## Extract features"
   ]
  },
  {
   "cell_type": "markdown",
   "id": "bc687cb1",
   "metadata": {},
   "source": [
    "### Fuction for extarcting features\n",
    "Featue engineering has been done in a seperate excerceis with a collection of scripts in the file named development.ipynb"
   ]
  },
  {
   "cell_type": "code",
   "execution_count": 73,
   "id": "fee45965",
   "metadata": {},
   "outputs": [],
   "source": [
    "import pandas as pd\n",
    "from sklearn.model_selection import train_test_split\n",
    "# Define a function to extract weekly and monthly features with prefixed row names and a single 'feature' column\n",
    "def extract_time_features(df, freq, prefix):\n",
    "    # Calculate statistics for each period individually\n",
    "    mean = df.resample(freq).mean()\n",
    "    mean.index = [f\"{prefix}_mean_{i}\" for i in range(len(mean))]\n",
    "    \n",
    "    std = df.resample(freq).std()\n",
    "    std.index = [f\"{prefix}_std_{i}\" for i in range(len(std))]\n",
    "    \n",
    "    skew = df.resample(freq).apply(pd.Series.skew)\n",
    "    skew.index = [f\"{prefix}_skew_{i}\" for i in range(len(skew))]\n",
    "    \n",
    "    sum_ = df.resample(freq).sum()\n",
    "    sum_.index = [f\"{prefix}_sum_{i}\" for i in range(len(sum_))]\n",
    "    \n",
    "    max_ = df.resample(freq).max()\n",
    "    max_.index = [f\"{prefix}_max_{i}\" for i in range(len(max_))]\n",
    "    \n",
    "    # Concatenate all features\n",
    "    features = pd.concat([mean, std, sum_, skew, max_], axis=0) #min_,\n",
    "    \n",
    "    # Reset the index to have 'feature' as a column and IDs as columns\n",
    "    features = features.reset_index()\n",
    "    features = features.rename(columns={'index': 'feature'})\n",
    "    \n",
    "    return features\n"
   ]
  },
  {
   "cell_type": "markdown",
   "id": "365e6e6e",
   "metadata": {},
   "source": [
    "### Train, test and validation sets"
   ]
  },
  {
   "cell_type": "code",
   "execution_count": 74,
   "id": "9aeb7ecb",
   "metadata": {},
   "outputs": [],
   "source": [
    "\n",
    "# Extract weekly and monthly features for each ID\n",
    "# you can add daily features if you have access to GPU. \n",
    "#Daily_features = extract_time_features(time_series_Consumption, 'D', 'D')\n",
    "# make suye to add Daily_features to the combined_features matrix in the below\n",
    "weekly_features = extract_time_features(time_series_Consumption, 'W', 'W')\n",
    "monthly_features = extract_time_features(time_series_Consumption, 'ME', 'M')\n",
    "Annual_features = extract_time_features(time_series_Consumption, 'YE', 'A')\n",
    "# Combine weekly and monthly features into a single DataFrame\n",
    "combined_features = pd.concat([weekly_features, monthly_features,Annual_features], axis=0).reset_index(drop=True)\n",
    "\n",
    "new_column_names = combined_features['feature'].values\n",
    "combined_features_temp= combined_features.drop(columns=['feature']).transpose()\n",
    "combined_features_temp.columns = new_column_names\n",
    "combined_features_temp=combined_features_temp.reset_index().rename(columns={'index': 'ID'})\n",
    "combined_features_temp.ID=combined_features_temp.ID.astype(int)\n",
    "# Step 1: Merge features and labels\n",
    "data = pd.merge(combined_features_temp, labels_df[['ID', 'Category']], on='ID')\n",
    "\n",
    "# Step 2: Separate features (X) and target (y)\n",
    "X = data.drop(columns=['Category','ID'])\n",
    "y = data['Category']\n",
    "\n",
    "# seperate part of the data for validation \n",
    "X_org, X_valid,y_org, y_valid = train_test_split(X, y, test_size=0.2, random_state=80)"
   ]
  },
  {
   "cell_type": "markdown",
   "id": "2be44d44",
   "metadata": {},
   "source": [
    "## Model training"
   ]
  },
  {
   "cell_type": "markdown",
   "id": "2e4189c3",
   "metadata": {},
   "source": [
    "### Hyper parameter optimization"
   ]
  },
  {
   "cell_type": "code",
   "execution_count": 85,
   "id": "a6fa7fdc",
   "metadata": {},
   "outputs": [],
   "source": [
    "from sklearn.model_selection import StratifiedKFold, RandomizedSearchCV\n",
    "from sklearn.preprocessing import LabelEncoder, StandardScaler\n",
    "from sklearn.pipeline import Pipeline\n",
    "from sklearn.metrics import accuracy_score, f1_score, precision_score, recall_score\n",
    "from xgboost import XGBClassifier\n",
    "from sklearn.ensemble import RandomForestClassifier\n",
    "from imblearn.over_sampling import SMOTE\n",
    "import joblib\n",
    "import warnings\n",
    "\n",
    "# Suppress warnings\n",
    "warnings.filterwarnings(\"ignore\", category=UserWarning)\n",
    "\n",
    "def model_trainer_advanced(X, y, algorithm='xgboost', param_distributions=None, save_model_path='best_model.joblib',label_encoder_Savepath='label_encoder.joblib'):\n",
    "    \"\"\"\n",
    "    Train a model using refined hyperparameter tuning and cross-validation.\n",
    "    \n",
    "    Parameters:\n",
    "    - X: pd.DataFrame, Feature matrix.\n",
    "    - y: pd.Series or np.ndarray, Target labels.\n",
    "    - algorithm: str, Algorithm to use ('xgboost' or 'random_forest').\n",
    "    - param_distributions: dict, Hyperparameter distribution for RandomizedSearchCV.\n",
    "    - save_model_path: str, Path to save the best model.\n",
    "\n",
    "    Returns:\n",
    "    - best_model: sklearn Pipeline, Best pipeline model.\n",
    "    - label_encoder: sklearn.preprocessing.LabelEncoder, Encoder for labels.\n",
    "    \"\"\"\n",
    "    # Encode target variable\n",
    "    label_encoder = LabelEncoder()\n",
    "    y_encoded = label_encoder.fit_transform(y)\n",
    "\n",
    "    # Handle class imbalance with SMOTE\n",
    "    smote = SMOTE(random_state=42)\n",
    "    X, y_encoded = smote.fit_resample(X, y_encoded)\n",
    "\n",
    "    # Initialize Stratified K-Fold Cross-Validation\n",
    "    skf = StratifiedKFold(n_splits=5, shuffle=True, random_state=42)\n",
    "    best_accuracy = 0\n",
    "    best_model = None\n",
    "\n",
    "    # Define refined parameter distributions for RandomizedSearchCV\n",
    "    if param_distributions is None:\n",
    "        if algorithm == 'xgboost':\n",
    "            param_distributions = {\n",
    "                'learning_rate': [0.01, 0.05, 0.1, 0.2],\n",
    "                'max_depth': [3, 5, 7, 9],\n",
    "                'n_estimators': [50, 100, 200, 300],\n",
    "                'subsample': [0.8, 0.9, 1.0],\n",
    "                'colsample_bytree': [0.6, 0.8, 1.0],\n",
    "                'gamma': [0, 0.1, 0.2, 0.3],\n",
    "                'min_child_weight': [1, 3, 5],\n",
    "                'reg_alpha': [0, 0.01, 0.1],\n",
    "                'reg_lambda': [1, 1.5, 2]\n",
    "            }\n",
    "        elif algorithm == 'random_forest':\n",
    "            param_distributions = {\n",
    "                'n_estimators': [50, 100, 200, 300],\n",
    "                'max_depth': [None, 10, 20, 30],\n",
    "                'min_samples_split': [2, 5, 10],\n",
    "                'min_samples_leaf': [1, 2, 4],\n",
    "                'max_features': ['auto', 'sqrt', 'log2'],\n",
    "                'bootstrap': [True, False]\n",
    "            }\n",
    "\n",
    "    # Cross-validation loop\n",
    "    for fold, (train_index, test_index) in enumerate(skf.split(X, y_encoded)):\n",
    "        print(f\"\\nStarting Fold {fold + 1}\")\n",
    "        \n",
    "        # Split data\n",
    "        X_train, X_test = X.iloc[train_index], X.iloc[test_index]\n",
    "        y_train, y_test = y_encoded[train_index], y_encoded[test_index]\n",
    "\n",
    "        # Define pipeline\n",
    "        if algorithm == 'xgboost':\n",
    "            model = XGBClassifier(use_label_encoder=False, eval_metric='mlogloss', random_state=42)\n",
    "        elif algorithm == 'random_forest':\n",
    "            model = RandomForestClassifier(random_state=42)\n",
    "        else:\n",
    "            raise ValueError(\"Unsupported algorithm. Choose 'xgboost' or 'random_forest'.\")\n",
    "\n",
    "        pipeline = Pipeline([\n",
    "            ('scaler', StandardScaler()),\n",
    "            ('model', model)\n",
    "        ])\n",
    "\n",
    "        # Refined hyperparameter optimization\n",
    "        random_search = RandomizedSearchCV(\n",
    "            estimator=pipeline, # normalize the data\n",
    "            param_distributions={'model__' + k: v for k, v in param_distributions.items()},\n",
    "            scoring='accuracy',  # Customize scoring metric if needed\n",
    "            cv=3,\n",
    "            n_iter=50,  # Increased number of iterations\n",
    "            n_jobs=-1,\n",
    "            random_state=42,\n",
    "            verbose=1\n",
    "        )\n",
    "\n",
    "        # Fit the random search\n",
    "        random_search.fit(X_train, y_train)\n",
    "\n",
    "        # Best model and metrics\n",
    "        best_pipeline = random_search.best_estimator_\n",
    "        y_pred = best_pipeline.predict(X_test)\n",
    "        fold_accuracy = accuracy_score(y_test, y_pred)\n",
    "        fold_f1 = f1_score(y_test, y_pred, average='weighted')\n",
    "        fold_precision = precision_score(y_test, y_pred, average='weighted')\n",
    "        fold_recall = recall_score(y_test, y_pred, average='weighted')\n",
    "\n",
    "        print(f\"Fold {fold + 1} Metrics:\")\n",
    "        print(f\" - Accuracy: {fold_accuracy:.2f}\")\n",
    "        print(f\" - F1-Score: {fold_f1:.2f}\")\n",
    "        print(f\" - Precision: {fold_precision:.2f}\")\n",
    "        print(f\" - Recall: {fold_recall:.2f}\")\n",
    "\n",
    "        # Check for best model\n",
    "        if fold_accuracy > best_accuracy:\n",
    "            best_accuracy = fold_accuracy\n",
    "            best_model = best_pipeline\n",
    "\n",
    "    # Save the best model\n",
    "    joblib.dump(best_model, save_model_path)\n",
    "    joblib.dump(label_encoder, save_model_path)\n",
    "    print(f\"\\nBest Model Saved: {save_model_path}\")\n",
    "    print(f\"Best Fold Accuracy: {best_accuracy:.2f}\")\n",
    "\n",
    "    return best_model, label_encoder\n"
   ]
  },
  {
   "cell_type": "markdown",
   "id": "037abb75",
   "metadata": {},
   "source": [
    "### Final model "
   ]
  },
  {
   "cell_type": "code",
   "execution_count": null,
   "id": "0f0faeba",
   "metadata": {},
   "outputs": [
    {
     "name": "stdout",
     "output_type": "stream",
     "text": [
      "\n",
      "Starting Fold 1\n",
      "Fitting 3 folds for each of 50 candidates, totalling 150 fits\n"
     ]
    }
   ],
   "source": [
    "# Train models on synthetic and real datasets\n",
    "\"\"\"Avaialbe functions are: \n",
    "model_trainer, model_trainer_advanced, model_trainer_gridSearch\n",
    "CHoose between XGBoost and Random Forest\"\"\"\n",
    "algorithm='xgboost'  # or 'random_forest'\n",
    "#model_synthetic, label_encoder_syn = model_trainer_advanced(X_trainTest_synthetic, y_trainTest_synthetic, algorithm=algorithm,  # or 'random_forest'\n",
    "#    save_model_path='best_model_syntheticData.joblib')\n",
    "model_real, label_encoder_real = model_trainer_advanced(X_org ,y_org,  algorithm=algorithm, #'xgboost' or 'random_forest'\n",
    "    save_model_path='{algorithm}_realData.joblib',label_encoder_Savepath='{algorithm}_label_encoder_realData.joblib')"
   ]
  },
  {
   "cell_type": "markdown",
   "id": "685e9683",
   "metadata": {},
   "source": [
    "### Visualization of the outcome"
   ]
  },
  {
   "cell_type": "code",
   "execution_count": 84,
   "id": "078fb444",
   "metadata": {},
   "outputs": [
    {
     "name": "stdout",
     "output_type": "stream",
     "text": [
      "Overall Accuracy: 0.97\n",
      "\n",
      "Classification Report:\n",
      "\n",
      "              precision    recall  f1-score     support\n",
      "0              1.000000  0.983051  0.991453   59.000000\n",
      "1              0.947368  1.000000  0.972973   18.000000\n",
      "2              1.000000  0.926471  0.961832   68.000000\n",
      "3              0.934426  0.966102  0.950000   59.000000\n",
      "4              0.932203  0.982143  0.956522   56.000000\n",
      "accuracy       0.965385  0.965385  0.965385    0.965385\n",
      "macro avg      0.962800  0.971553  0.966556  260.000000\n",
      "weighted avg   0.966874  0.965385  0.965496  260.000000\n"
     ]
    },
    {
     "name": "stderr",
     "output_type": "stream",
     "text": [
      "C:\\Users\\SHARIFIM\\AppData\\Local\\Temp\\ipykernel_28776\\3372242823.py:31: FutureWarning: \n",
      "\n",
      "Passing `palette` without assigning `hue` is deprecated and will be removed in v0.14.0. Assign the `x` variable to `hue` and set `legend=False` for the same effect.\n",
      "\n",
      "  sns.barplot(x=classification_report_df.index[:-3], y=classification_report_df['recall'][:-3], palette=\"viridis\")\n"
     ]
    },
    {
     "data": {
      "image/png": "[encoded data removed]",
      "text/plain": [
       "<Figure size 1000x600 with 1 Axes>"
      ]
     },
     "metadata": {},
     "output_type": "display_data"
    },
    {
     "data": {
      "image/png": "[encoded data removed]",
      "text/plain": [
       "<Figure size 1000x800 with 2 Axes>"
      ]
     },
     "metadata": {},
     "output_type": "display_data"
    },
    {
     "ename": "AttributeError",
     "evalue": "'Pipeline' object has no attribute 'feature_importances_'",
     "output_type": "error",
     "traceback": [
      "\u001b[1;31m---------------------------------------------------------------------------\u001b[0m",
      "\u001b[1;31mAttributeError\u001b[0m                            Traceback (most recent call last)",
      "Cell \u001b[1;32mIn[84], line 49\u001b[0m\n\u001b[0;32m     45\u001b[0m plt\u001b[38;5;241m.\u001b[39mshow()\n\u001b[0;32m     47\u001b[0m \u001b[38;5;66;03m# Step 5: Feature Importance (Top 10)\u001b[39;00m\n\u001b[0;32m     48\u001b[0m \u001b[38;5;66;03m# Get feature importances from the best model\u001b[39;00m\n\u001b[1;32m---> 49\u001b[0m feature_importances \u001b[38;5;241m=\u001b[39m \u001b[43mfinal_model\u001b[49m\u001b[38;5;241;43m.\u001b[39;49m\u001b[43mfeature_importances_\u001b[49m\n\u001b[0;32m     50\u001b[0m features \u001b[38;5;241m=\u001b[39m X_org\u001b[38;5;241m.\u001b[39mcolumns  \u001b[38;5;66;03m# Assuming `X_train` has the original features\u001b[39;00m\n\u001b[0;32m     51\u001b[0m importance_df \u001b[38;5;241m=\u001b[39m pd\u001b[38;5;241m.\u001b[39mDataFrame({\u001b[38;5;124m'\u001b[39m\u001b[38;5;124mFeature\u001b[39m\u001b[38;5;124m'\u001b[39m: features, \u001b[38;5;124m'\u001b[39m\u001b[38;5;124mImportance\u001b[39m\u001b[38;5;124m'\u001b[39m: feature_importances})\n",
      "\u001b[1;31mAttributeError\u001b[0m: 'Pipeline' object has no attribute 'feature_importances_'"
     ]
    }
   ],
   "source": [
    "import numpy as np\n",
    "import pandas as pd\n",
    "from sklearn.metrics import accuracy_score, classification_report, confusion_matrix\n",
    "import seaborn as sns\n",
    "import matplotlib.pyplot as plt\n",
    "import joblib\n",
    "\n",
    "# Step 1: Make predictions using the best model\n",
    "\n",
    "final_model = joblib.load('XGB_realData.joblib')  # Load the best model\n",
    "label_encoder=joblib.load('xgb_label_encoder_realData.joblib')\n",
    "###\n",
    "\n",
    "y_pred = final_model.predict(X_valid)\n",
    "y_valid_encoded=label_encoder.fit_transform(y_valid)\n",
    "\n",
    "# Step 2: Calculate overall accuracy\n",
    "overall_accuracy = accuracy_score(y_valid_encoded, y_pred)\n",
    "print(f\"Overall Accuracy: {overall_accuracy:.2f}\")\n",
    "\n",
    "# Step 3: Detailed classification report for per-label accuracy (precision, recall, F1-score for each label)\n",
    "classification_report_dict = classification_report(y_valid_encoded, y_pred, output_dict=True)\n",
    "classification_report_df = pd.DataFrame(classification_report_dict).transpose()\n",
    "\n",
    "# Display per-label accuracy (recall for each label)\n",
    "print(\"\\nClassification Report:\\n\")\n",
    "print(classification_report_df)\n",
    "\n",
    "# Plot per-label accuracy (recall)\n",
    "plt.figure(figsize=(10, 6))\n",
    "sns.barplot(x=classification_report_df.index[:-3], y=classification_report_df['recall'][:-3], palette=\"viridis\")\n",
    "plt.title(\"Per-Label Accuracy (Recall)\")\n",
    "plt.xlabel(\"Labels\")\n",
    "plt.ylabel(\"Recall\")\n",
    "plt.xticks(rotation=45, ha=\"right\")\n",
    "plt.show()\n",
    "\n",
    "# Step 4: Confusion Matrix\n",
    "cm = confusion_matrix(y_valid_encoded, y_pred, labels=final_model.classes_)\n",
    "plt.figure(figsize=(10, 8))\n",
    "sns.heatmap(cm, annot=True, fmt=\"d\", cmap=\"Blues\", xticklabels=label_encoder.classes_, yticklabels=label_encoder.classes_)\n",
    "plt.xlabel(\"Predicted\")\n",
    "plt.ylabel(\"Actual\")\n",
    "plt.title(\"Confusion Matrix\")\n",
    "plt.show()\n",
    "\n",
    "# Step 5: Feature Importance (Top 10)\n",
    "# Get feature importances from the best model\n",
    "feature_importances = final_model.feature_importances_\n",
    "features = X_org.columns  # Assuming `X_train` has the original features\n",
    "importance_df = pd.DataFrame({'Feature': features, 'Importance': feature_importances})\n",
    "\n",
    "# Sort by importance and select the top 10 features\n",
    "top_10_importances = importance_df.sort_values(by='Importance', ascending=False).head(10)\n",
    "\n",
    "# Plot the top 10 feature importances\n",
    "plt.figure(figsize=(10, 6))\n",
    "sns.barplot(x='Importance', y='Feature', data=top_10_importances, palette=\"viridis\")\n",
    "plt.title(\"Top 10 Feature Importances\")\n",
    "plt.show()\n"
   ]
  },
  {
   "cell_type": "markdown",
   "id": "e25125a9",
   "metadata": {},
   "source": [
    "# Test the model on synthetic data"
   ]
  },
  {
   "cell_type": "markdown",
   "id": "693c919d",
   "metadata": {},
   "source": [
    "## syntehtic data with Labels"
   ]
  },
  {
   "cell_type": "markdown",
   "id": "bd27a00d",
   "metadata": {},
   "source": [
    "### pre-processing the input"
   ]
  },
  {
   "cell_type": "code",
   "execution_count": 57,
   "id": "c1165f6e",
   "metadata": {},
   "outputs": [
    {
     "name": "stdout",
     "output_type": "stream",
     "text": [
      "['EV_noPV' 'NONE' 'Only_PV' 'PV+HP' 'EV+PV']\n"
     ]
    }
   ],
   "source": [
    "import pandas as pd\n",
    "##\n",
    "###### These synthetic time series are generated by TUW and can be found in MODERATE project github.\n",
    "syntehtic_timeSeries=pd.read_csv('fluvius_wide_format.csv')\n",
    "syntehtic_timeSeries.set_index('datetime', inplace=True)\n",
    "syntehtic_timeSeries['Datetime'] = pd.to_datetime(syntehtic_timeSeries.index)\n",
    "syntehtic_timeSeries.set_index('Datetime', inplace=True)\n",
    "synthetic_labels=pd.read_csv('fluvius_indicators.csv')\n",
    "label_mapping = {\n",
    "    'EV': 'EV_noPV',\n",
    "    'standard': 'NONE',\n",
    "    'PV': 'Only_PV',\n",
    "    'heat pump+PV': 'PV+HP',\n",
    "    'EV+PV': 'EV+PV'}\n",
    "synthetic_labels.rename(columns={'EAN_ID': 'ID'}, inplace=True)\n",
    "# Apply the mapping to the synthetic_labels DataFrame\n",
    "synthetic_labels['Category'] = synthetic_labels['label'].map(label_mapping)\n",
    "# Now synthetic_labels['mapped_label'] contains the standardized labels\n",
    "print(synthetic_labels['Category'].unique())"
   ]
  },
  {
   "cell_type": "markdown",
   "id": "e5f1863f",
   "metadata": {},
   "source": [
    "### features extract"
   ]
  },
  {
   "cell_type": "code",
   "execution_count": 69,
   "id": "b8ad3f0b",
   "metadata": {},
   "outputs": [
    {
     "ename": "NameError",
     "evalue": "name 'min_' is not defined",
     "output_type": "error",
     "traceback": [
      "\u001b[1;31m---------------------------------------------------------------------------\u001b[0m",
      "\u001b[1;31mNameError\u001b[0m                                 Traceback (most recent call last)",
      "Cell \u001b[1;32mIn[69], line 7\u001b[0m\n\u001b[0;32m      1\u001b[0m \u001b[38;5;66;03m# we need to extract similar features as were used in the trarining\u001b[39;00m\n\u001b[0;32m      2\u001b[0m \n\u001b[0;32m      3\u001b[0m \u001b[38;5;66;03m# Extract weekly and monthly features for each ID\u001b[39;00m\n\u001b[0;32m      4\u001b[0m \u001b[38;5;66;03m# you can add daily features if you have access to GPU. \u001b[39;00m\n\u001b[0;32m      5\u001b[0m \u001b[38;5;66;03m#Daily_features = extract_time_features(time_series_Consumption, 'D', 'D')\u001b[39;00m\n\u001b[0;32m      6\u001b[0m \u001b[38;5;66;03m# make suye to add Daily_features to the combined_features matrix in the below\u001b[39;00m\n\u001b[1;32m----> 7\u001b[0m weekly_features \u001b[38;5;241m=\u001b[39m \u001b[43mextract_time_features\u001b[49m\u001b[43m(\u001b[49m\u001b[43msyntehtic_timeSeries\u001b[49m\u001b[43m,\u001b[49m\u001b[43m \u001b[49m\u001b[38;5;124;43m'\u001b[39;49m\u001b[38;5;124;43mW\u001b[39;49m\u001b[38;5;124;43m'\u001b[39;49m\u001b[43m,\u001b[49m\u001b[43m \u001b[49m\u001b[38;5;124;43m'\u001b[39;49m\u001b[38;5;124;43mW\u001b[39;49m\u001b[38;5;124;43m'\u001b[39;49m\u001b[43m)\u001b[49m\n\u001b[0;32m      8\u001b[0m monthly_features \u001b[38;5;241m=\u001b[39m extract_time_features(syntehtic_timeSeries, \u001b[38;5;124m'\u001b[39m\u001b[38;5;124mME\u001b[39m\u001b[38;5;124m'\u001b[39m, \u001b[38;5;124m'\u001b[39m\u001b[38;5;124mM\u001b[39m\u001b[38;5;124m'\u001b[39m)\n\u001b[0;32m      9\u001b[0m Annual_features \u001b[38;5;241m=\u001b[39m extract_time_features(syntehtic_timeSeries, \u001b[38;5;124m'\u001b[39m\u001b[38;5;124mYE\u001b[39m\u001b[38;5;124m'\u001b[39m, \u001b[38;5;124m'\u001b[39m\u001b[38;5;124mA\u001b[39m\u001b[38;5;124m'\u001b[39m)\n",
      "Cell \u001b[1;32mIn[68], line 22\u001b[0m, in \u001b[0;36mextract_time_features\u001b[1;34m(df, freq, prefix)\u001b[0m\n\u001b[0;32m     19\u001b[0m max_\u001b[38;5;241m.\u001b[39mindex \u001b[38;5;241m=\u001b[39m [\u001b[38;5;124mf\u001b[39m\u001b[38;5;124m\"\u001b[39m\u001b[38;5;132;01m{\u001b[39;00mprefix\u001b[38;5;132;01m}\u001b[39;00m\u001b[38;5;124m_max_\u001b[39m\u001b[38;5;132;01m{\u001b[39;00mi\u001b[38;5;132;01m}\u001b[39;00m\u001b[38;5;124m\"\u001b[39m \u001b[38;5;28;01mfor\u001b[39;00m i \u001b[38;5;129;01min\u001b[39;00m \u001b[38;5;28mrange\u001b[39m(\u001b[38;5;28mlen\u001b[39m(max_))]\n\u001b[0;32m     21\u001b[0m \u001b[38;5;66;03m# Concatenate all features\u001b[39;00m\n\u001b[1;32m---> 22\u001b[0m features \u001b[38;5;241m=\u001b[39m pd\u001b[38;5;241m.\u001b[39mconcat([mean, std, \u001b[43mmin_\u001b[49m, skew, max_], axis\u001b[38;5;241m=\u001b[39m\u001b[38;5;241m0\u001b[39m) \u001b[38;5;66;03m#min_,\u001b[39;00m\n\u001b[0;32m     24\u001b[0m \u001b[38;5;66;03m# Reset the index to have 'feature' as a column and IDs as columns\u001b[39;00m\n\u001b[0;32m     25\u001b[0m features \u001b[38;5;241m=\u001b[39m features\u001b[38;5;241m.\u001b[39mreset_index()\n",
      "\u001b[1;31mNameError\u001b[0m: name 'min_' is not defined"
     ]
    }
   ],
   "source": [
    "# we need to extract similar features as were used in the trarining\n",
    "\n",
    "# Extract weekly and monthly features for each ID\n",
    "# you can add daily features if you have access to GPU. \n",
    "#Daily_features = extract_time_features(time_series_Consumption, 'D', 'D')\n",
    "# make suye to add Daily_features to the combined_features matrix in the below\n",
    "weekly_features = extract_time_features(syntehtic_timeSeries, 'W', 'W')\n",
    "monthly_features = extract_time_features(syntehtic_timeSeries, 'ME', 'M')\n",
    "Annual_features = extract_time_features(syntehtic_timeSeries, 'YE', 'A')\n",
    "# Combine weekly and monthly features into a single DataFrame\n",
    "combined_features = pd.concat([weekly_features, monthly_features,Annual_features], axis=0).reset_index(drop=True)\n",
    "\n",
    "new_column_names = combined_features['feature'].values\n",
    "combined_features_temp= combined_features.drop(columns=['feature']).transpose()\n",
    "combined_features_temp.columns = new_column_names\n",
    "combined_features_temp=combined_features_temp.reset_index().rename(columns={'index': 'ID'})\n",
    "combined_features_temp.ID=combined_features_temp.ID.astype(int)\n",
    "# Step 1: Merge features and labels\n",
    "data_synthetic = pd.merge(combined_features_temp, synthetic_labels[['ID', 'Category']], on='ID')\n",
    "\n",
    "# Step 2: Separate features (X) and target (y)\n",
    "X = data_synthetic.drop(columns=['Category','ID'])\n",
    "y = data_synthetic['Category']\n",
    "\n",
    "# seperate part of the data for validation \n",
    "#X_org_syn, X_valid_syn,y_org_syn, y_valid_syn = train_test_split(X, y, test_size=0.2, random_state=80)"
   ]
  },
  {
   "cell_type": "markdown",
   "id": "b7f72d4e",
   "metadata": {},
   "source": [
    "### predict labels"
   ]
  },
  {
   "cell_type": "code",
   "execution_count": null,
   "id": "503c6744",
   "metadata": {},
   "outputs": [
    {
     "ename": "ValueError",
     "evalue": "feature_names mismatch: ['W_mean_0', 'W_mean_1', 'W_mean_2', 'W_mean_3', 'W_mean_4', 'W_mean_5', 'W_mean_6', 'W_mean_7', 'W_mean_8', 'W_mean_9', 'W_mean_10', 'W_mean_11', 'W_mean_12', 'W_mean_13', 'W_mean_14', 'W_mean_15', 'W_mean_16', 'W_mean_17', 'W_mean_18', 'W_mean_19', 'W_mean_20', 'W_mean_21', 'W_mean_22', 'W_mean_23', 'W_mean_24', 'W_mean_25', 'W_mean_26', 'W_mean_27', 'W_mean_28', 'W_mean_29', 'W_mean_30', 'W_mean_31', 'W_mean_32', 'W_mean_33', 'W_mean_34', 'W_mean_35', 'W_mean_36', 'W_mean_37', 'W_mean_38', 'W_mean_39', 'W_mean_40', 'W_mean_41', 'W_mean_42', 'W_mean_43', 'W_mean_44', 'W_mean_45', 'W_mean_46', 'W_mean_47', 'W_mean_48', 'W_mean_49', 'W_mean_50', 'W_mean_51', 'W_mean_52', 'W_std_0', 'W_std_1', 'W_std_2', 'W_std_3', 'W_std_4', 'W_std_5', 'W_std_6', 'W_std_7', 'W_std_8', 'W_std_9', 'W_std_10', 'W_std_11', 'W_std_12', 'W_std_13', 'W_std_14', 'W_std_15', 'W_std_16', 'W_std_17', 'W_std_18', 'W_std_19', 'W_std_20', 'W_std_21', 'W_std_22', 'W_std_23', 'W_std_24', 'W_std_25', 'W_std_26', 'W_std_27', 'W_std_28', 'W_std_29', 'W_std_30', 'W_std_31', 'W_std_32', 'W_std_33', 'W_std_34', 'W_std_35', 'W_std_36', 'W_std_37', 'W_std_38', 'W_std_39', 'W_std_40', 'W_std_41', 'W_std_42', 'W_std_43', 'W_std_44', 'W_std_45', 'W_std_46', 'W_std_47', 'W_std_48', 'W_std_49', 'W_std_50', 'W_std_51', 'W_std_52', 'W_min_0', 'W_min_1', 'W_min_2', 'W_min_3', 'W_min_4', 'W_min_5', 'W_min_6', 'W_min_7', 'W_min_8', 'W_min_9', 'W_min_10', 'W_min_11', 'W_min_12', 'W_min_13', 'W_min_14', 'W_min_15', 'W_min_16', 'W_min_17', 'W_min_18', 'W_min_19', 'W_min_20', 'W_min_21', 'W_min_22', 'W_min_23', 'W_min_24', 'W_min_25', 'W_min_26', 'W_min_27', 'W_min_28', 'W_min_29', 'W_min_30', 'W_min_31', 'W_min_32', 'W_min_33', 'W_min_34', 'W_min_35', 'W_min_36', 'W_min_37', 'W_min_38', 'W_min_39', 'W_min_40', 'W_min_41', 'W_min_42', 'W_min_43', 'W_min_44', 'W_min_45', 'W_min_46', 'W_min_47', 'W_min_48', 'W_min_49', 'W_min_50', 'W_min_51', 'W_min_52', 'W_skew_0', 'W_skew_1', 'W_skew_2', 'W_skew_3', 'W_skew_4', 'W_skew_5', 'W_skew_6', 'W_skew_7', 'W_skew_8', 'W_skew_9', 'W_skew_10', 'W_skew_11', 'W_skew_12', 'W_skew_13', 'W_skew_14', 'W_skew_15', 'W_skew_16', 'W_skew_17', 'W_skew_18', 'W_skew_19', 'W_skew_20', 'W_skew_21', 'W_skew_22', 'W_skew_23', 'W_skew_24', 'W_skew_25', 'W_skew_26', 'W_skew_27', 'W_skew_28', 'W_skew_29', 'W_skew_30', 'W_skew_31', 'W_skew_32', 'W_skew_33', 'W_skew_34', 'W_skew_35', 'W_skew_36', 'W_skew_37', 'W_skew_38', 'W_skew_39', 'W_skew_40', 'W_skew_41', 'W_skew_42', 'W_skew_43', 'W_skew_44', 'W_skew_45', 'W_skew_46', 'W_skew_47', 'W_skew_48', 'W_skew_49', 'W_skew_50', 'W_skew_51', 'W_skew_52', 'W_max_0', 'W_max_1', 'W_max_2', 'W_max_3', 'W_max_4', 'W_max_5', 'W_max_6', 'W_max_7', 'W_max_8', 'W_max_9', 'W_max_10', 'W_max_11', 'W_max_12', 'W_max_13', 'W_max_14', 'W_max_15', 'W_max_16', 'W_max_17', 'W_max_18', 'W_max_19', 'W_max_20', 'W_max_21', 'W_max_22', 'W_max_23', 'W_max_24', 'W_max_25', 'W_max_26', 'W_max_27', 'W_max_28', 'W_max_29', 'W_max_30', 'W_max_31', 'W_max_32', 'W_max_33', 'W_max_34', 'W_max_35', 'W_max_36', 'W_max_37', 'W_max_38', 'W_max_39', 'W_max_40', 'W_max_41', 'W_max_42', 'W_max_43', 'W_max_44', 'W_max_45', 'W_max_46', 'W_max_47', 'W_max_48', 'W_max_49', 'W_max_50', 'W_max_51', 'W_max_52', 'M_mean_0', 'M_mean_1', 'M_mean_2', 'M_mean_3', 'M_mean_4', 'M_mean_5', 'M_mean_6', 'M_mean_7', 'M_mean_8', 'M_mean_9', 'M_mean_10', 'M_mean_11', 'M_std_0', 'M_std_1', 'M_std_2', 'M_std_3', 'M_std_4', 'M_std_5', 'M_std_6', 'M_std_7', 'M_std_8', 'M_std_9', 'M_std_10', 'M_std_11', 'M_min_0', 'M_min_1', 'M_min_2', 'M_min_3', 'M_min_4', 'M_min_5', 'M_min_6', 'M_min_7', 'M_min_8', 'M_min_9', 'M_min_10', 'M_min_11', 'M_skew_0', 'M_skew_1', 'M_skew_2', 'M_skew_3', 'M_skew_4', 'M_skew_5', 'M_skew_6', 'M_skew_7', 'M_skew_8', 'M_skew_9', 'M_skew_10', 'M_skew_11', 'M_max_0', 'M_max_1', 'M_max_2', 'M_max_3', 'M_max_4', 'M_max_5', 'M_max_6', 'M_max_7', 'M_max_8', 'M_max_9', 'M_max_10', 'M_max_11', 'A_mean_0', 'A_std_0', 'A_min_0', 'A_skew_0', 'A_max_0'] ['W_mean_0', 'W_mean_1', 'W_mean_2', 'W_mean_3', 'W_mean_4', 'W_mean_5', 'W_mean_6', 'W_mean_7', 'W_mean_8', 'W_mean_9', 'W_mean_10', 'W_mean_11', 'W_mean_12', 'W_mean_13', 'W_mean_14', 'W_mean_15', 'W_mean_16', 'W_mean_17', 'W_mean_18', 'W_mean_19', 'W_mean_20', 'W_mean_21', 'W_mean_22', 'W_mean_23', 'W_mean_24', 'W_mean_25', 'W_mean_26', 'W_mean_27', 'W_mean_28', 'W_mean_29', 'W_mean_30', 'W_mean_31', 'W_mean_32', 'W_mean_33', 'W_mean_34', 'W_mean_35', 'W_mean_36', 'W_mean_37', 'W_mean_38', 'W_mean_39', 'W_mean_40', 'W_mean_41', 'W_mean_42', 'W_mean_43', 'W_mean_44', 'W_mean_45', 'W_mean_46', 'W_mean_47', 'W_mean_48', 'W_mean_49', 'W_mean_50', 'W_mean_51', 'W_mean_52', 'W_std_0', 'W_std_1', 'W_std_2', 'W_std_3', 'W_std_4', 'W_std_5', 'W_std_6', 'W_std_7', 'W_std_8', 'W_std_9', 'W_std_10', 'W_std_11', 'W_std_12', 'W_std_13', 'W_std_14', 'W_std_15', 'W_std_16', 'W_std_17', 'W_std_18', 'W_std_19', 'W_std_20', 'W_std_21', 'W_std_22', 'W_std_23', 'W_std_24', 'W_std_25', 'W_std_26', 'W_std_27', 'W_std_28', 'W_std_29', 'W_std_30', 'W_std_31', 'W_std_32', 'W_std_33', 'W_std_34', 'W_std_35', 'W_std_36', 'W_std_37', 'W_std_38', 'W_std_39', 'W_std_40', 'W_std_41', 'W_std_42', 'W_std_43', 'W_std_44', 'W_std_45', 'W_std_46', 'W_std_47', 'W_std_48', 'W_std_49', 'W_std_50', 'W_std_51', 'W_std_52', 'W_sum_0', 'W_sum_1', 'W_sum_2', 'W_sum_3', 'W_sum_4', 'W_sum_5', 'W_sum_6', 'W_sum_7', 'W_sum_8', 'W_sum_9', 'W_sum_10', 'W_sum_11', 'W_sum_12', 'W_sum_13', 'W_sum_14', 'W_sum_15', 'W_sum_16', 'W_sum_17', 'W_sum_18', 'W_sum_19', 'W_sum_20', 'W_sum_21', 'W_sum_22', 'W_sum_23', 'W_sum_24', 'W_sum_25', 'W_sum_26', 'W_sum_27', 'W_sum_28', 'W_sum_29', 'W_sum_30', 'W_sum_31', 'W_sum_32', 'W_sum_33', 'W_sum_34', 'W_sum_35', 'W_sum_36', 'W_sum_37', 'W_sum_38', 'W_sum_39', 'W_sum_40', 'W_sum_41', 'W_sum_42', 'W_sum_43', 'W_sum_44', 'W_sum_45', 'W_sum_46', 'W_sum_47', 'W_sum_48', 'W_sum_49', 'W_sum_50', 'W_sum_51', 'W_sum_52', 'W_skew_0', 'W_skew_1', 'W_skew_2', 'W_skew_3', 'W_skew_4', 'W_skew_5', 'W_skew_6', 'W_skew_7', 'W_skew_8', 'W_skew_9', 'W_skew_10', 'W_skew_11', 'W_skew_12', 'W_skew_13', 'W_skew_14', 'W_skew_15', 'W_skew_16', 'W_skew_17', 'W_skew_18', 'W_skew_19', 'W_skew_20', 'W_skew_21', 'W_skew_22', 'W_skew_23', 'W_skew_24', 'W_skew_25', 'W_skew_26', 'W_skew_27', 'W_skew_28', 'W_skew_29', 'W_skew_30', 'W_skew_31', 'W_skew_32', 'W_skew_33', 'W_skew_34', 'W_skew_35', 'W_skew_36', 'W_skew_37', 'W_skew_38', 'W_skew_39', 'W_skew_40', 'W_skew_41', 'W_skew_42', 'W_skew_43', 'W_skew_44', 'W_skew_45', 'W_skew_46', 'W_skew_47', 'W_skew_48', 'W_skew_49', 'W_skew_50', 'W_skew_51', 'W_skew_52', 'W_max_0', 'W_max_1', 'W_max_2', 'W_max_3', 'W_max_4', 'W_max_5', 'W_max_6', 'W_max_7', 'W_max_8', 'W_max_9', 'W_max_10', 'W_max_11', 'W_max_12', 'W_max_13', 'W_max_14', 'W_max_15', 'W_max_16', 'W_max_17', 'W_max_18', 'W_max_19', 'W_max_20', 'W_max_21', 'W_max_22', 'W_max_23', 'W_max_24', 'W_max_25', 'W_max_26', 'W_max_27', 'W_max_28', 'W_max_29', 'W_max_30', 'W_max_31', 'W_max_32', 'W_max_33', 'W_max_34', 'W_max_35', 'W_max_36', 'W_max_37', 'W_max_38', 'W_max_39', 'W_max_40', 'W_max_41', 'W_max_42', 'W_max_43', 'W_max_44', 'W_max_45', 'W_max_46', 'W_max_47', 'W_max_48', 'W_max_49', 'W_max_50', 'W_max_51', 'W_max_52', 'M_mean_0', 'M_mean_1', 'M_mean_2', 'M_mean_3', 'M_mean_4', 'M_mean_5', 'M_mean_6', 'M_mean_7', 'M_mean_8', 'M_mean_9', 'M_mean_10', 'M_mean_11', 'M_std_0', 'M_std_1', 'M_std_2', 'M_std_3', 'M_std_4', 'M_std_5', 'M_std_6', 'M_std_7', 'M_std_8', 'M_std_9', 'M_std_10', 'M_std_11', 'M_sum_0', 'M_sum_1', 'M_sum_2', 'M_sum_3', 'M_sum_4', 'M_sum_5', 'M_sum_6', 'M_sum_7', 'M_sum_8', 'M_sum_9', 'M_sum_10', 'M_sum_11', 'M_skew_0', 'M_skew_1', 'M_skew_2', 'M_skew_3', 'M_skew_4', 'M_skew_5', 'M_skew_6', 'M_skew_7', 'M_skew_8', 'M_skew_9', 'M_skew_10', 'M_skew_11', 'M_max_0', 'M_max_1', 'M_max_2', 'M_max_3', 'M_max_4', 'M_max_5', 'M_max_6', 'M_max_7', 'M_max_8', 'M_max_9', 'M_max_10', 'M_max_11', 'A_mean_0', 'A_std_0', 'A_sum_0', 'A_skew_0', 'A_max_0']\nexpected W_min_23, W_min_0, W_min_13, W_min_6, W_min_49, W_min_25, M_min_0, W_min_41, M_min_8, W_min_27, M_min_10, W_min_11, W_min_31, W_min_47, W_min_39, W_min_33, W_min_38, W_min_43, M_min_1, W_min_46, W_min_29, W_min_10, M_min_5, M_min_6, W_min_21, W_min_7, W_min_40, A_min_0, W_min_51, W_min_42, W_min_2, M_min_9, M_min_4, W_min_16, W_min_30, W_min_1, W_min_9, W_min_8, W_min_22, W_min_4, W_min_12, W_min_50, W_min_18, W_min_37, W_min_52, W_min_28, W_min_3, M_min_7, W_min_26, W_min_5, M_min_2, W_min_24, M_min_3, W_min_35, W_min_19, W_min_34, W_min_36, W_min_17, W_min_32, W_min_20, W_min_14, M_min_11, W_min_48, W_min_15, W_min_45, W_min_44 in input data\ntraining data did not have the following fields: W_sum_16, W_sum_39, M_sum_8, W_sum_10, W_sum_21, W_sum_30, W_sum_7, M_sum_9, W_sum_12, W_sum_40, W_sum_45, M_sum_4, W_sum_28, W_sum_0, W_sum_25, W_sum_46, M_sum_0, W_sum_26, W_sum_19, W_sum_15, W_sum_47, M_sum_5, W_sum_50, W_sum_2, W_sum_3, W_sum_41, W_sum_43, W_sum_34, W_sum_8, W_sum_14, M_sum_6, W_sum_4, W_sum_27, W_sum_51, W_sum_5, W_sum_44, W_sum_9, W_sum_32, W_sum_48, W_sum_52, M_sum_7, W_sum_23, W_sum_24, W_sum_33, M_sum_1, W_sum_11, W_sum_37, W_sum_36, W_sum_18, W_sum_17, W_sum_35, W_sum_29, W_sum_20, W_sum_49, W_sum_42, M_sum_10, M_sum_11, W_sum_6, M_sum_2, W_sum_31, M_sum_3, W_sum_38, A_sum_0, W_sum_22, W_sum_1, W_sum_13",
     "output_type": "error",
     "traceback": [
      "\u001b[1;31m---------------------------------------------------------------------------\u001b[0m",
      "\u001b[1;31mValueError\u001b[0m                                Traceback (most recent call last)",
      "Cell \u001b[1;32mIn[67], line 6\u001b[0m\n\u001b[0;32m      4\u001b[0m label_encoder \u001b[38;5;241m=\u001b[39m joblib\u001b[38;5;241m.\u001b[39mload(\u001b[38;5;124m'\u001b[39m\u001b[38;5;124mlabel_encoder.joblib\u001b[39m\u001b[38;5;124m'\u001b[39m)\n\u001b[0;32m      5\u001b[0m \u001b[38;5;66;03m# Make predictions on the synthetic data\u001b[39;00m\n\u001b[1;32m----> 6\u001b[0m y_pred_synthetic \u001b[38;5;241m=\u001b[39m \u001b[43mmodel\u001b[49m\u001b[38;5;241;43m.\u001b[39;49m\u001b[43mpredict\u001b[49m\u001b[43m(\u001b[49m\u001b[43mX\u001b[49m\u001b[43m)\u001b[49m\n\u001b[0;32m      7\u001b[0m y_pred_synthetic_encoded \u001b[38;5;241m=\u001b[39m label_encoder\u001b[38;5;241m.\u001b[39minverse_transform(y_pred_synthetic)\n\u001b[0;32m      8\u001b[0m \u001b[38;5;66;03m# Add the predictions to the synthetic_labels DataFrame\u001b[39;00m\n",
      "File \u001b[1;32m~\\AppData\\Local\\Packages\\PythonSoftwareFoundation.Python.3.12_qbz5n2kfra8p0\\LocalCache\\local-packages\\Python312\\site-packages\\xgboost\\sklearn.py:1565\u001b[0m, in \u001b[0;36mXGBClassifier.predict\u001b[1;34m(self, X, output_margin, validate_features, base_margin, iteration_range)\u001b[0m\n\u001b[0;32m   1556\u001b[0m \u001b[38;5;28;01mdef\u001b[39;00m \u001b[38;5;21mpredict\u001b[39m(\n\u001b[0;32m   1557\u001b[0m     \u001b[38;5;28mself\u001b[39m,\n\u001b[0;32m   1558\u001b[0m     X: ArrayLike,\n\u001b[1;32m   (...)\u001b[0m\n\u001b[0;32m   1562\u001b[0m     iteration_range: Optional[IterationRange] \u001b[38;5;241m=\u001b[39m \u001b[38;5;28;01mNone\u001b[39;00m,\n\u001b[0;32m   1563\u001b[0m ) \u001b[38;5;241m-\u001b[39m\u001b[38;5;241m>\u001b[39m ArrayLike:\n\u001b[0;32m   1564\u001b[0m     \u001b[38;5;28;01mwith\u001b[39;00m config_context(verbosity\u001b[38;5;241m=\u001b[39m\u001b[38;5;28mself\u001b[39m\u001b[38;5;241m.\u001b[39mverbosity):\n\u001b[1;32m-> 1565\u001b[0m         class_probs \u001b[38;5;241m=\u001b[39m \u001b[38;5;28;43msuper\u001b[39;49m\u001b[43m(\u001b[49m\u001b[43m)\u001b[49m\u001b[38;5;241;43m.\u001b[39;49m\u001b[43mpredict\u001b[49m\u001b[43m(\u001b[49m\n\u001b[0;32m   1566\u001b[0m \u001b[43m            \u001b[49m\u001b[43mX\u001b[49m\u001b[38;5;241;43m=\u001b[39;49m\u001b[43mX\u001b[49m\u001b[43m,\u001b[49m\n\u001b[0;32m   1567\u001b[0m \u001b[43m            \u001b[49m\u001b[43moutput_margin\u001b[49m\u001b[38;5;241;43m=\u001b[39;49m\u001b[43moutput_margin\u001b[49m\u001b[43m,\u001b[49m\n\u001b[0;32m   1568\u001b[0m \u001b[43m            \u001b[49m\u001b[43mvalidate_features\u001b[49m\u001b[38;5;241;43m=\u001b[39;49m\u001b[43mvalidate_features\u001b[49m\u001b[43m,\u001b[49m\n\u001b[0;32m   1569\u001b[0m \u001b[43m            \u001b[49m\u001b[43mbase_margin\u001b[49m\u001b[38;5;241;43m=\u001b[39;49m\u001b[43mbase_margin\u001b[49m\u001b[43m,\u001b[49m\n\u001b[0;32m   1570\u001b[0m \u001b[43m            \u001b[49m\u001b[43miteration_range\u001b[49m\u001b[38;5;241;43m=\u001b[39;49m\u001b[43miteration_range\u001b[49m\u001b[43m,\u001b[49m\n\u001b[0;32m   1571\u001b[0m \u001b[43m        \u001b[49m\u001b[43m)\u001b[49m\n\u001b[0;32m   1572\u001b[0m         \u001b[38;5;28;01mif\u001b[39;00m output_margin:\n\u001b[0;32m   1573\u001b[0m             \u001b[38;5;66;03m# If output_margin is active, simply return the scores\u001b[39;00m\n\u001b[0;32m   1574\u001b[0m             \u001b[38;5;28;01mreturn\u001b[39;00m class_probs\n",
      "File \u001b[1;32m~\\AppData\\Local\\Packages\\PythonSoftwareFoundation.Python.3.12_qbz5n2kfra8p0\\LocalCache\\local-packages\\Python312\\site-packages\\xgboost\\sklearn.py:1186\u001b[0m, in \u001b[0;36mXGBModel.predict\u001b[1;34m(self, X, output_margin, validate_features, base_margin, iteration_range)\u001b[0m\n\u001b[0;32m   1184\u001b[0m \u001b[38;5;28;01mif\u001b[39;00m \u001b[38;5;28mself\u001b[39m\u001b[38;5;241m.\u001b[39m_can_use_inplace_predict():\n\u001b[0;32m   1185\u001b[0m     \u001b[38;5;28;01mtry\u001b[39;00m:\n\u001b[1;32m-> 1186\u001b[0m         predts \u001b[38;5;241m=\u001b[39m \u001b[38;5;28;43mself\u001b[39;49m\u001b[38;5;241;43m.\u001b[39;49m\u001b[43mget_booster\u001b[49m\u001b[43m(\u001b[49m\u001b[43m)\u001b[49m\u001b[38;5;241;43m.\u001b[39;49m\u001b[43minplace_predict\u001b[49m\u001b[43m(\u001b[49m\n\u001b[0;32m   1187\u001b[0m \u001b[43m            \u001b[49m\u001b[43mdata\u001b[49m\u001b[38;5;241;43m=\u001b[39;49m\u001b[43mX\u001b[49m\u001b[43m,\u001b[49m\n\u001b[0;32m   1188\u001b[0m \u001b[43m            \u001b[49m\u001b[43miteration_range\u001b[49m\u001b[38;5;241;43m=\u001b[39;49m\u001b[43miteration_range\u001b[49m\u001b[43m,\u001b[49m\n\u001b[0;32m   1189\u001b[0m \u001b[43m            \u001b[49m\u001b[43mpredict_type\u001b[49m\u001b[38;5;241;43m=\u001b[39;49m\u001b[38;5;124;43m\"\u001b[39;49m\u001b[38;5;124;43mmargin\u001b[39;49m\u001b[38;5;124;43m\"\u001b[39;49m\u001b[43m \u001b[49m\u001b[38;5;28;43;01mif\u001b[39;49;00m\u001b[43m \u001b[49m\u001b[43moutput_margin\u001b[49m\u001b[43m \u001b[49m\u001b[38;5;28;43;01melse\u001b[39;49;00m\u001b[43m \u001b[49m\u001b[38;5;124;43m\"\u001b[39;49m\u001b[38;5;124;43mvalue\u001b[39;49m\u001b[38;5;124;43m\"\u001b[39;49m\u001b[43m,\u001b[49m\n\u001b[0;32m   1190\u001b[0m \u001b[43m            \u001b[49m\u001b[43mmissing\u001b[49m\u001b[38;5;241;43m=\u001b[39;49m\u001b[38;5;28;43mself\u001b[39;49m\u001b[38;5;241;43m.\u001b[39;49m\u001b[43mmissing\u001b[49m\u001b[43m,\u001b[49m\n\u001b[0;32m   1191\u001b[0m \u001b[43m            \u001b[49m\u001b[43mbase_margin\u001b[49m\u001b[38;5;241;43m=\u001b[39;49m\u001b[43mbase_margin\u001b[49m\u001b[43m,\u001b[49m\n\u001b[0;32m   1192\u001b[0m \u001b[43m            \u001b[49m\u001b[43mvalidate_features\u001b[49m\u001b[38;5;241;43m=\u001b[39;49m\u001b[43mvalidate_features\u001b[49m\u001b[43m,\u001b[49m\n\u001b[0;32m   1193\u001b[0m \u001b[43m        \u001b[49m\u001b[43m)\u001b[49m\n\u001b[0;32m   1194\u001b[0m         \u001b[38;5;28;01mif\u001b[39;00m _is_cupy_alike(predts):\n\u001b[0;32m   1195\u001b[0m             \u001b[38;5;28;01mimport\u001b[39;00m \u001b[38;5;21;01mcupy\u001b[39;00m  \u001b[38;5;66;03m# pylint: disable=import-error\u001b[39;00m\n",
      "File \u001b[1;32m~\\AppData\\Local\\Packages\\PythonSoftwareFoundation.Python.3.12_qbz5n2kfra8p0\\LocalCache\\local-packages\\Python312\\site-packages\\xgboost\\core.py:2510\u001b[0m, in \u001b[0;36mBooster.inplace_predict\u001b[1;34m(self, data, iteration_range, predict_type, missing, validate_features, base_margin, strict_shape)\u001b[0m\n\u001b[0;32m   2508\u001b[0m     data, fns, _ \u001b[38;5;241m=\u001b[39m _transform_pandas_df(data, enable_categorical)\n\u001b[0;32m   2509\u001b[0m     \u001b[38;5;28;01mif\u001b[39;00m validate_features:\n\u001b[1;32m-> 2510\u001b[0m         \u001b[38;5;28;43mself\u001b[39;49m\u001b[38;5;241;43m.\u001b[39;49m\u001b[43m_validate_features\u001b[49m\u001b[43m(\u001b[49m\u001b[43mfns\u001b[49m\u001b[43m)\u001b[49m\n\u001b[0;32m   2511\u001b[0m \u001b[38;5;28;01mif\u001b[39;00m _is_list(data) \u001b[38;5;129;01mor\u001b[39;00m _is_tuple(data):\n\u001b[0;32m   2512\u001b[0m     data \u001b[38;5;241m=\u001b[39m np\u001b[38;5;241m.\u001b[39marray(data)\n",
      "File \u001b[1;32m~\\AppData\\Local\\Packages\\PythonSoftwareFoundation.Python.3.12_qbz5n2kfra8p0\\LocalCache\\local-packages\\Python312\\site-packages\\xgboost\\core.py:3075\u001b[0m, in \u001b[0;36mBooster._validate_features\u001b[1;34m(self, feature_names)\u001b[0m\n\u001b[0;32m   3069\u001b[0m \u001b[38;5;28;01mif\u001b[39;00m my_missing:\n\u001b[0;32m   3070\u001b[0m     msg \u001b[38;5;241m+\u001b[39m\u001b[38;5;241m=\u001b[39m (\n\u001b[0;32m   3071\u001b[0m         \u001b[38;5;124m\"\u001b[39m\u001b[38;5;130;01m\\n\u001b[39;00m\u001b[38;5;124mtraining data did not have the following fields: \u001b[39m\u001b[38;5;124m\"\u001b[39m\n\u001b[0;32m   3072\u001b[0m         \u001b[38;5;241m+\u001b[39m \u001b[38;5;124m\"\u001b[39m\u001b[38;5;124m, \u001b[39m\u001b[38;5;124m\"\u001b[39m\u001b[38;5;241m.\u001b[39mjoin(\u001b[38;5;28mstr\u001b[39m(s) \u001b[38;5;28;01mfor\u001b[39;00m s \u001b[38;5;129;01min\u001b[39;00m my_missing)\n\u001b[0;32m   3073\u001b[0m     )\n\u001b[1;32m-> 3075\u001b[0m \u001b[38;5;28;01mraise\u001b[39;00m \u001b[38;5;167;01mValueError\u001b[39;00m(msg\u001b[38;5;241m.\u001b[39mformat(\u001b[38;5;28mself\u001b[39m\u001b[38;5;241m.\u001b[39mfeature_names, feature_names))\n",
      "\u001b[1;31mValueError\u001b[0m: feature_names mismatch: ['W_mean_0', 'W_mean_1', 'W_mean_2', 'W_mean_3', 'W_mean_4', 'W_mean_5', 'W_mean_6', 'W_mean_7', 'W_mean_8', 'W_mean_9', 'W_mean_10', 'W_mean_11', 'W_mean_12', 'W_mean_13', 'W_mean_14', 'W_mean_15', 'W_mean_16', 'W_mean_17', 'W_mean_18', 'W_mean_19', 'W_mean_20', 'W_mean_21', 'W_mean_22', 'W_mean_23', 'W_mean_24', 'W_mean_25', 'W_mean_26', 'W_mean_27', 'W_mean_28', 'W_mean_29', 'W_mean_30', 'W_mean_31', 'W_mean_32', 'W_mean_33', 'W_mean_34', 'W_mean_35', 'W_mean_36', 'W_mean_37', 'W_mean_38', 'W_mean_39', 'W_mean_40', 'W_mean_41', 'W_mean_42', 'W_mean_43', 'W_mean_44', 'W_mean_45', 'W_mean_46', 'W_mean_47', 'W_mean_48', 'W_mean_49', 'W_mean_50', 'W_mean_51', 'W_mean_52', 'W_std_0', 'W_std_1', 'W_std_2', 'W_std_3', 'W_std_4', 'W_std_5', 'W_std_6', 'W_std_7', 'W_std_8', 'W_std_9', 'W_std_10', 'W_std_11', 'W_std_12', 'W_std_13', 'W_std_14', 'W_std_15', 'W_std_16', 'W_std_17', 'W_std_18', 'W_std_19', 'W_std_20', 'W_std_21', 'W_std_22', 'W_std_23', 'W_std_24', 'W_std_25', 'W_std_26', 'W_std_27', 'W_std_28', 'W_std_29', 'W_std_30', 'W_std_31', 'W_std_32', 'W_std_33', 'W_std_34', 'W_std_35', 'W_std_36', 'W_std_37', 'W_std_38', 'W_std_39', 'W_std_40', 'W_std_41', 'W_std_42', 'W_std_43', 'W_std_44', 'W_std_45', 'W_std_46', 'W_std_47', 'W_std_48', 'W_std_49', 'W_std_50', 'W_std_51', 'W_std_52', 'W_min_0', 'W_min_1', 'W_min_2', 'W_min_3', 'W_min_4', 'W_min_5', 'W_min_6', 'W_min_7', 'W_min_8', 'W_min_9', 'W_min_10', 'W_min_11', 'W_min_12', 'W_min_13', 'W_min_14', 'W_min_15', 'W_min_16', 'W_min_17', 'W_min_18', 'W_min_19', 'W_min_20', 'W_min_21', 'W_min_22', 'W_min_23', 'W_min_24', 'W_min_25', 'W_min_26', 'W_min_27', 'W_min_28', 'W_min_29', 'W_min_30', 'W_min_31', 'W_min_32', 'W_min_33', 'W_min_34', 'W_min_35', 'W_min_36', 'W_min_37', 'W_min_38', 'W_min_39', 'W_min_40', 'W_min_41', 'W_min_42', 'W_min_43', 'W_min_44', 'W_min_45', 'W_min_46', 'W_min_47', 'W_min_48', 'W_min_49', 'W_min_50', 'W_min_51', 'W_min_52', 'W_skew_0', 'W_skew_1', 'W_skew_2', 'W_skew_3', 'W_skew_4', 'W_skew_5', 'W_skew_6', 'W_skew_7', 'W_skew_8', 'W_skew_9', 'W_skew_10', 'W_skew_11', 'W_skew_12', 'W_skew_13', 'W_skew_14', 'W_skew_15', 'W_skew_16', 'W_skew_17', 'W_skew_18', 'W_skew_19', 'W_skew_20', 'W_skew_21', 'W_skew_22', 'W_skew_23', 'W_skew_24', 'W_skew_25', 'W_skew_26', 'W_skew_27', 'W_skew_28', 'W_skew_29', 'W_skew_30', 'W_skew_31', 'W_skew_32', 'W_skew_33', 'W_skew_34', 'W_skew_35', 'W_skew_36', 'W_skew_37', 'W_skew_38', 'W_skew_39', 'W_skew_40', 'W_skew_41', 'W_skew_42', 'W_skew_43', 'W_skew_44', 'W_skew_45', 'W_skew_46', 'W_skew_47', 'W_skew_48', 'W_skew_49', 'W_skew_50', 'W_skew_51', 'W_skew_52', 'W_max_0', 'W_max_1', 'W_max_2', 'W_max_3', 'W_max_4', 'W_max_5', 'W_max_6', 'W_max_7', 'W_max_8', 'W_max_9', 'W_max_10', 'W_max_11', 'W_max_12', 'W_max_13', 'W_max_14', 'W_max_15', 'W_max_16', 'W_max_17', 'W_max_18', 'W_max_19', 'W_max_20', 'W_max_21', 'W_max_22', 'W_max_23', 'W_max_24', 'W_max_25', 'W_max_26', 'W_max_27', 'W_max_28', 'W_max_29', 'W_max_30', 'W_max_31', 'W_max_32', 'W_max_33', 'W_max_34', 'W_max_35', 'W_max_36', 'W_max_37', 'W_max_38', 'W_max_39', 'W_max_40', 'W_max_41', 'W_max_42', 'W_max_43', 'W_max_44', 'W_max_45', 'W_max_46', 'W_max_47', 'W_max_48', 'W_max_49', 'W_max_50', 'W_max_51', 'W_max_52', 'M_mean_0', 'M_mean_1', 'M_mean_2', 'M_mean_3', 'M_mean_4', 'M_mean_5', 'M_mean_6', 'M_mean_7', 'M_mean_8', 'M_mean_9', 'M_mean_10', 'M_mean_11', 'M_std_0', 'M_std_1', 'M_std_2', 'M_std_3', 'M_std_4', 'M_std_5', 'M_std_6', 'M_std_7', 'M_std_8', 'M_std_9', 'M_std_10', 'M_std_11', 'M_min_0', 'M_min_1', 'M_min_2', 'M_min_3', 'M_min_4', 'M_min_5', 'M_min_6', 'M_min_7', 'M_min_8', 'M_min_9', 'M_min_10', 'M_min_11', 'M_skew_0', 'M_skew_1', 'M_skew_2', 'M_skew_3', 'M_skew_4', 'M_skew_5', 'M_skew_6', 'M_skew_7', 'M_skew_8', 'M_skew_9', 'M_skew_10', 'M_skew_11', 'M_max_0', 'M_max_1', 'M_max_2', 'M_max_3', 'M_max_4', 'M_max_5', 'M_max_6', 'M_max_7', 'M_max_8', 'M_max_9', 'M_max_10', 'M_max_11', 'A_mean_0', 'A_std_0', 'A_min_0', 'A_skew_0', 'A_max_0'] ['W_mean_0', 'W_mean_1', 'W_mean_2', 'W_mean_3', 'W_mean_4', 'W_mean_5', 'W_mean_6', 'W_mean_7', 'W_mean_8', 'W_mean_9', 'W_mean_10', 'W_mean_11', 'W_mean_12', 'W_mean_13', 'W_mean_14', 'W_mean_15', 'W_mean_16', 'W_mean_17', 'W_mean_18', 'W_mean_19', 'W_mean_20', 'W_mean_21', 'W_mean_22', 'W_mean_23', 'W_mean_24', 'W_mean_25', 'W_mean_26', 'W_mean_27', 'W_mean_28', 'W_mean_29', 'W_mean_30', 'W_mean_31', 'W_mean_32', 'W_mean_33', 'W_mean_34', 'W_mean_35', 'W_mean_36', 'W_mean_37', 'W_mean_38', 'W_mean_39', 'W_mean_40', 'W_mean_41', 'W_mean_42', 'W_mean_43', 'W_mean_44', 'W_mean_45', 'W_mean_46', 'W_mean_47', 'W_mean_48', 'W_mean_49', 'W_mean_50', 'W_mean_51', 'W_mean_52', 'W_std_0', 'W_std_1', 'W_std_2', 'W_std_3', 'W_std_4', 'W_std_5', 'W_std_6', 'W_std_7', 'W_std_8', 'W_std_9', 'W_std_10', 'W_std_11', 'W_std_12', 'W_std_13', 'W_std_14', 'W_std_15', 'W_std_16', 'W_std_17', 'W_std_18', 'W_std_19', 'W_std_20', 'W_std_21', 'W_std_22', 'W_std_23', 'W_std_24', 'W_std_25', 'W_std_26', 'W_std_27', 'W_std_28', 'W_std_29', 'W_std_30', 'W_std_31', 'W_std_32', 'W_std_33', 'W_std_34', 'W_std_35', 'W_std_36', 'W_std_37', 'W_std_38', 'W_std_39', 'W_std_40', 'W_std_41', 'W_std_42', 'W_std_43', 'W_std_44', 'W_std_45', 'W_std_46', 'W_std_47', 'W_std_48', 'W_std_49', 'W_std_50', 'W_std_51', 'W_std_52', 'W_sum_0', 'W_sum_1', 'W_sum_2', 'W_sum_3', 'W_sum_4', 'W_sum_5', 'W_sum_6', 'W_sum_7', 'W_sum_8', 'W_sum_9', 'W_sum_10', 'W_sum_11', 'W_sum_12', 'W_sum_13', 'W_sum_14', 'W_sum_15', 'W_sum_16', 'W_sum_17', 'W_sum_18', 'W_sum_19', 'W_sum_20', 'W_sum_21', 'W_sum_22', 'W_sum_23', 'W_sum_24', 'W_sum_25', 'W_sum_26', 'W_sum_27', 'W_sum_28', 'W_sum_29', 'W_sum_30', 'W_sum_31', 'W_sum_32', 'W_sum_33', 'W_sum_34', 'W_sum_35', 'W_sum_36', 'W_sum_37', 'W_sum_38', 'W_sum_39', 'W_sum_40', 'W_sum_41', 'W_sum_42', 'W_sum_43', 'W_sum_44', 'W_sum_45', 'W_sum_46', 'W_sum_47', 'W_sum_48', 'W_sum_49', 'W_sum_50', 'W_sum_51', 'W_sum_52', 'W_skew_0', 'W_skew_1', 'W_skew_2', 'W_skew_3', 'W_skew_4', 'W_skew_5', 'W_skew_6', 'W_skew_7', 'W_skew_8', 'W_skew_9', 'W_skew_10', 'W_skew_11', 'W_skew_12', 'W_skew_13', 'W_skew_14', 'W_skew_15', 'W_skew_16', 'W_skew_17', 'W_skew_18', 'W_skew_19', 'W_skew_20', 'W_skew_21', 'W_skew_22', 'W_skew_23', 'W_skew_24', 'W_skew_25', 'W_skew_26', 'W_skew_27', 'W_skew_28', 'W_skew_29', 'W_skew_30', 'W_skew_31', 'W_skew_32', 'W_skew_33', 'W_skew_34', 'W_skew_35', 'W_skew_36', 'W_skew_37', 'W_skew_38', 'W_skew_39', 'W_skew_40', 'W_skew_41', 'W_skew_42', 'W_skew_43', 'W_skew_44', 'W_skew_45', 'W_skew_46', 'W_skew_47', 'W_skew_48', 'W_skew_49', 'W_skew_50', 'W_skew_51', 'W_skew_52', 'W_max_0', 'W_max_1', 'W_max_2', 'W_max_3', 'W_max_4', 'W_max_5', 'W_max_6', 'W_max_7', 'W_max_8', 'W_max_9', 'W_max_10', 'W_max_11', 'W_max_12', 'W_max_13', 'W_max_14', 'W_max_15', 'W_max_16', 'W_max_17', 'W_max_18', 'W_max_19', 'W_max_20', 'W_max_21', 'W_max_22', 'W_max_23', 'W_max_24', 'W_max_25', 'W_max_26', 'W_max_27', 'W_max_28', 'W_max_29', 'W_max_30', 'W_max_31', 'W_max_32', 'W_max_33', 'W_max_34', 'W_max_35', 'W_max_36', 'W_max_37', 'W_max_38', 'W_max_39', 'W_max_40', 'W_max_41', 'W_max_42', 'W_max_43', 'W_max_44', 'W_max_45', 'W_max_46', 'W_max_47', 'W_max_48', 'W_max_49', 'W_max_50', 'W_max_51', 'W_max_52', 'M_mean_0', 'M_mean_1', 'M_mean_2', 'M_mean_3', 'M_mean_4', 'M_mean_5', 'M_mean_6', 'M_mean_7', 'M_mean_8', 'M_mean_9', 'M_mean_10', 'M_mean_11', 'M_std_0', 'M_std_1', 'M_std_2', 'M_std_3', 'M_std_4', 'M_std_5', 'M_std_6', 'M_std_7', 'M_std_8', 'M_std_9', 'M_std_10', 'M_std_11', 'M_sum_0', 'M_sum_1', 'M_sum_2', 'M_sum_3', 'M_sum_4', 'M_sum_5', 'M_sum_6', 'M_sum_7', 'M_sum_8', 'M_sum_9', 'M_sum_10', 'M_sum_11', 'M_skew_0', 'M_skew_1', 'M_skew_2', 'M_skew_3', 'M_skew_4', 'M_skew_5', 'M_skew_6', 'M_skew_7', 'M_skew_8', 'M_skew_9', 'M_skew_10', 'M_skew_11', 'M_max_0', 'M_max_1', 'M_max_2', 'M_max_3', 'M_max_4', 'M_max_5', 'M_max_6', 'M_max_7', 'M_max_8', 'M_max_9', 'M_max_10', 'M_max_11', 'A_mean_0', 'A_std_0', 'A_sum_0', 'A_skew_0', 'A_max_0']\nexpected W_min_23, W_min_0, W_min_13, W_min_6, W_min_49, W_min_25, M_min_0, W_min_41, M_min_8, W_min_27, M_min_10, W_min_11, W_min_31, W_min_47, W_min_39, W_min_33, W_min_38, W_min_43, M_min_1, W_min_46, W_min_29, W_min_10, M_min_5, M_min_6, W_min_21, W_min_7, W_min_40, A_min_0, W_min_51, W_min_42, W_min_2, M_min_9, M_min_4, W_min_16, W_min_30, W_min_1, W_min_9, W_min_8, W_min_22, W_min_4, W_min_12, W_min_50, W_min_18, W_min_37, W_min_52, W_min_28, W_min_3, M_min_7, W_min_26, W_min_5, M_min_2, W_min_24, M_min_3, W_min_35, W_min_19, W_min_34, W_min_36, W_min_17, W_min_32, W_min_20, W_min_14, M_min_11, W_min_48, W_min_15, W_min_45, W_min_44 in input data\ntraining data did not have the following fields: W_sum_16, W_sum_39, M_sum_8, W_sum_10, W_sum_21, W_sum_30, W_sum_7, M_sum_9, W_sum_12, W_sum_40, W_sum_45, M_sum_4, W_sum_28, W_sum_0, W_sum_25, W_sum_46, M_sum_0, W_sum_26, W_sum_19, W_sum_15, W_sum_47, M_sum_5, W_sum_50, W_sum_2, W_sum_3, W_sum_41, W_sum_43, W_sum_34, W_sum_8, W_sum_14, M_sum_6, W_sum_4, W_sum_27, W_sum_51, W_sum_5, W_sum_44, W_sum_9, W_sum_32, W_sum_48, W_sum_52, M_sum_7, W_sum_23, W_sum_24, W_sum_33, M_sum_1, W_sum_11, W_sum_37, W_sum_36, W_sum_18, W_sum_17, W_sum_35, W_sum_29, W_sum_20, W_sum_49, W_sum_42, M_sum_10, M_sum_11, W_sum_6, M_sum_2, W_sum_31, M_sum_3, W_sum_38, A_sum_0, W_sum_22, W_sum_1, W_sum_13"
     ]
    }
   ],
   "source": [
    "import joblib\n",
    "# Load the model and label encoder\n",
    "model = joblib.load('best_xgb_model.joblib')\n",
    "label_encoder = joblib.load('label_encoder.joblib')\n",
    "# Make predictions on the synthetic data\n",
    "y_pred_synthetic = model.predict(X)\n",
    "y_pred_synthetic_encoded = label_encoder.inverse_transform(y_pred_synthetic)\n",
    "# Add the predictions to the synthetic_labels DataFrame\n",
    "synthetic_labels['Predicted_Category'] = y_pred_synthetic_encoded"
   ]
  },
  {
   "cell_type": "code",
   "execution_count": 59,
   "id": "fe236bea",
   "metadata": {},
   "outputs": [
    {
     "ename": "KeyError",
     "evalue": "'Predicted_Category'",
     "output_type": "error",
     "traceback": [
      "\u001b[1;31m---------------------------------------------------------------------------\u001b[0m",
      "\u001b[1;31mKeyError\u001b[0m                                  Traceback (most recent call last)",
      "File \u001b[1;32m~\\AppData\\Local\\Packages\\PythonSoftwareFoundation.Python.3.12_qbz5n2kfra8p0\\LocalCache\\local-packages\\Python312\\site-packages\\pandas\\core\\indexes\\base.py:3805\u001b[0m, in \u001b[0;36mIndex.get_loc\u001b[1;34m(self, key)\u001b[0m\n\u001b[0;32m   3804\u001b[0m \u001b[38;5;28;01mtry\u001b[39;00m:\n\u001b[1;32m-> 3805\u001b[0m     \u001b[38;5;28;01mreturn\u001b[39;00m \u001b[38;5;28;43mself\u001b[39;49m\u001b[38;5;241;43m.\u001b[39;49m\u001b[43m_engine\u001b[49m\u001b[38;5;241;43m.\u001b[39;49m\u001b[43mget_loc\u001b[49m\u001b[43m(\u001b[49m\u001b[43mcasted_key\u001b[49m\u001b[43m)\u001b[49m\n\u001b[0;32m   3806\u001b[0m \u001b[38;5;28;01mexcept\u001b[39;00m \u001b[38;5;167;01mKeyError\u001b[39;00m \u001b[38;5;28;01mas\u001b[39;00m err:\n",
      "File \u001b[1;32mindex.pyx:167\u001b[0m, in \u001b[0;36mpandas._libs.index.IndexEngine.get_loc\u001b[1;34m()\u001b[0m\n",
      "File \u001b[1;32mindex.pyx:196\u001b[0m, in \u001b[0;36mpandas._libs.index.IndexEngine.get_loc\u001b[1;34m()\u001b[0m\n",
      "File \u001b[1;32mpandas\\\\_libs\\\\hashtable_class_helper.pxi:7081\u001b[0m, in \u001b[0;36mpandas._libs.hashtable.PyObjectHashTable.get_item\u001b[1;34m()\u001b[0m\n",
      "File \u001b[1;32mpandas\\\\_libs\\\\hashtable_class_helper.pxi:7089\u001b[0m, in \u001b[0;36mpandas._libs.hashtable.PyObjectHashTable.get_item\u001b[1;34m()\u001b[0m\n",
      "\u001b[1;31mKeyError\u001b[0m: 'Predicted_Category'",
      "\nThe above exception was the direct cause of the following exception:\n",
      "\u001b[1;31mKeyError\u001b[0m                                  Traceback (most recent call last)",
      "Cell \u001b[1;32mIn[59], line 1\u001b[0m\n\u001b[1;32m----> 1\u001b[0m \u001b[43msynthetic_labels\u001b[49m\u001b[43m[\u001b[49m\u001b[38;5;124;43m'\u001b[39;49m\u001b[38;5;124;43mPredicted_Category\u001b[39;49m\u001b[38;5;124;43m'\u001b[39;49m\u001b[43m]\u001b[49m\n",
      "File \u001b[1;32m~\\AppData\\Local\\Packages\\PythonSoftwareFoundation.Python.3.12_qbz5n2kfra8p0\\LocalCache\\local-packages\\Python312\\site-packages\\pandas\\core\\frame.py:4102\u001b[0m, in \u001b[0;36mDataFrame.__getitem__\u001b[1;34m(self, key)\u001b[0m\n\u001b[0;32m   4100\u001b[0m \u001b[38;5;28;01mif\u001b[39;00m \u001b[38;5;28mself\u001b[39m\u001b[38;5;241m.\u001b[39mcolumns\u001b[38;5;241m.\u001b[39mnlevels \u001b[38;5;241m>\u001b[39m \u001b[38;5;241m1\u001b[39m:\n\u001b[0;32m   4101\u001b[0m     \u001b[38;5;28;01mreturn\u001b[39;00m \u001b[38;5;28mself\u001b[39m\u001b[38;5;241m.\u001b[39m_getitem_multilevel(key)\n\u001b[1;32m-> 4102\u001b[0m indexer \u001b[38;5;241m=\u001b[39m \u001b[38;5;28;43mself\u001b[39;49m\u001b[38;5;241;43m.\u001b[39;49m\u001b[43mcolumns\u001b[49m\u001b[38;5;241;43m.\u001b[39;49m\u001b[43mget_loc\u001b[49m\u001b[43m(\u001b[49m\u001b[43mkey\u001b[49m\u001b[43m)\u001b[49m\n\u001b[0;32m   4103\u001b[0m \u001b[38;5;28;01mif\u001b[39;00m is_integer(indexer):\n\u001b[0;32m   4104\u001b[0m     indexer \u001b[38;5;241m=\u001b[39m [indexer]\n",
      "File \u001b[1;32m~\\AppData\\Local\\Packages\\PythonSoftwareFoundation.Python.3.12_qbz5n2kfra8p0\\LocalCache\\local-packages\\Python312\\site-packages\\pandas\\core\\indexes\\base.py:3812\u001b[0m, in \u001b[0;36mIndex.get_loc\u001b[1;34m(self, key)\u001b[0m\n\u001b[0;32m   3807\u001b[0m     \u001b[38;5;28;01mif\u001b[39;00m \u001b[38;5;28misinstance\u001b[39m(casted_key, \u001b[38;5;28mslice\u001b[39m) \u001b[38;5;129;01mor\u001b[39;00m (\n\u001b[0;32m   3808\u001b[0m         \u001b[38;5;28misinstance\u001b[39m(casted_key, abc\u001b[38;5;241m.\u001b[39mIterable)\n\u001b[0;32m   3809\u001b[0m         \u001b[38;5;129;01mand\u001b[39;00m \u001b[38;5;28many\u001b[39m(\u001b[38;5;28misinstance\u001b[39m(x, \u001b[38;5;28mslice\u001b[39m) \u001b[38;5;28;01mfor\u001b[39;00m x \u001b[38;5;129;01min\u001b[39;00m casted_key)\n\u001b[0;32m   3810\u001b[0m     ):\n\u001b[0;32m   3811\u001b[0m         \u001b[38;5;28;01mraise\u001b[39;00m InvalidIndexError(key)\n\u001b[1;32m-> 3812\u001b[0m     \u001b[38;5;28;01mraise\u001b[39;00m \u001b[38;5;167;01mKeyError\u001b[39;00m(key) \u001b[38;5;28;01mfrom\u001b[39;00m \u001b[38;5;21;01merr\u001b[39;00m\n\u001b[0;32m   3813\u001b[0m \u001b[38;5;28;01mexcept\u001b[39;00m \u001b[38;5;167;01mTypeError\u001b[39;00m:\n\u001b[0;32m   3814\u001b[0m     \u001b[38;5;66;03m# If we have a listlike key, _check_indexing_error will raise\u001b[39;00m\n\u001b[0;32m   3815\u001b[0m     \u001b[38;5;66;03m#  InvalidIndexError. Otherwise we fall through and re-raise\u001b[39;00m\n\u001b[0;32m   3816\u001b[0m     \u001b[38;5;66;03m#  the TypeError.\u001b[39;00m\n\u001b[0;32m   3817\u001b[0m     \u001b[38;5;28mself\u001b[39m\u001b[38;5;241m.\u001b[39m_check_indexing_error(key)\n",
      "\u001b[1;31mKeyError\u001b[0m: 'Predicted_Category'"
     ]
    }
   ],
   "source": [
    "synthetic_labels['Predicted_Category']"
   ]
  },
  {
   "cell_type": "markdown",
   "id": "6e5f6736",
   "metadata": {},
   "source": [
    "### visualization of outcomes"
   ]
  },
  {
   "cell_type": "code",
   "execution_count": null,
   "id": "8090b1a1",
   "metadata": {},
   "outputs": [],
   "source": [
    "import numpy as np\n",
    "import pandas as pd\n",
    "from sklearn.metrics import accuracy_score, classification_report, confusion_matrix\n",
    "import seaborn as sns\n",
    "import matplotlib.pyplot as plt\n",
    "\n",
    "# Step 1: Make predictions using the best model\n",
    "y_pred = final_model.predict(X_valid)\n",
    "y_valid_encoded=label_encoder.fit_transform(y_valid)\n",
    "\n",
    "\n",
    "# Display per-label accuracy (recall for each label)\n",
    "print(\"\\nClassification Report:\\n\")\n",
    "print(classification_report_df)\n",
    "\n",
    "# Plot per-label accuracy (recall)\n",
    "plt.figure(figsize=(10, 6))\n",
    "sns.barplot(x=classification_report_df.index[:-3], y=classification_report_df['recall'][:-3], palette=\"viridis\")\n",
    "plt.title(\"Per-Label Accuracy (Recall)\")\n",
    "plt.xlabel(\"Labels\")\n",
    "plt.ylabel(\"Recall\")\n",
    "plt.xticks(rotation=45, ha=\"right\")\n",
    "plt.show()\n",
    "\n",
    "# Step 4: Confusion Matrix\n",
    "cm = confusion_matrix(y_valid_encoded, y_pred, labels=final_model.classes_)\n",
    "plt.figure(figsize=(10, 8))\n",
    "sns.heatmap(cm, annot=True, fmt=\"d\", cmap=\"Blues\", xticklabels=label_encoder.classes_, yticklabels=label_encoder.classes_)\n",
    "plt.xlabel(\"Predicted\")\n",
    "plt.ylabel(\"Actual\")\n",
    "plt.title(\"Confusion Matrix\")\n",
    "plt.show()\n",
    "\n",
    "# Step 5: Feature Importance (Top 10)\n",
    "# Get feature importances from the best model\n",
    "feature_importances = final_model.feature_importances_\n",
    "features = X_org.columns  # Assuming `X_train` has the original features\n",
    "importance_df = pd.DataFrame({'Feature': features, 'Importance': feature_importances})\n",
    "\n",
    "# Sort by importance and select the top 10 features\n",
    "top_10_importances = importance_df.sort_values(by='Importance', ascending=False).head(10)\n",
    "\n",
    "# Plot the top 10 feature importances\n",
    "plt.figure(figsize=(10, 6))\n",
    "sns.barplot(x='Importance', y='Feature', data=top_10_importances, palette=\"viridis\")\n",
    "plt.title(\"Top 10 Feature Importances\")\n",
    "plt.show()\n"
   ]
  },
  {
   "cell_type": "markdown",
   "id": "c04176cd",
   "metadata": {},
   "source": [
    "## Synthetic data without lables"
   ]
  }
 ],
 "metadata": {
  "kernelspec": {
   "display_name": "Python 3",
   "language": "python",
   "name": "python3"
  },
  "language_info": {
   "codemirror_mode": {
    "name": "ipython",
    "version": 3
   },
   "file_extension": ".py",
   "mimetype": "text/x-python",
   "name": "python",
   "nbconvert_exporter": "python",
   "pygments_lexer": "ipython3",
   "version": "3.12.10"
  }
 },
 "nbformat": 4,
 "nbformat_minor": 5
}
